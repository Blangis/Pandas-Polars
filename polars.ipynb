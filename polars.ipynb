{
 "cells": [
  {
   "cell_type": "markdown",
   "id": "8a629651",
   "metadata": {},
   "source": [
    "# Polars"
   ]
  },
  {
   "cell_type": "code",
   "execution_count": 2,
   "id": "f3730e15",
   "metadata": {},
   "outputs": [],
   "source": [
    "import polars as pl"
   ]
  },
  {
   "cell_type": "code",
   "execution_count": 13,
   "id": "cb3c7de0",
   "metadata": {},
   "outputs": [
    {
     "name": "stdout",
     "output_type": "stream",
     "text": [
      "Promedio de Taxis Green: $22.63\n",
      "Promedio de Taxis Yellow: $25.61\n",
      "FHVHV avg income: $30.24\n",
      "El promedio de los 3 tipos de Taxis es de $26.16\n"
     ]
    }
   ],
   "source": [
    "# Green\n",
    "green_schema = pl.read_parquet(\"green_tripdata_2025-01.parquet\", columns=['total_amount', 'trip_distance', 'tip_amount', 'tolls_amount'])\n",
    "green_avg = green_schema['total_amount'].mean()\n",
    "print(f\"Promedio de Taxis Green: ${green_avg:.2f}\")\n",
    "# Yellow\n",
    "yellow_schema = pl.read_parquet('yellow_tripdata_2025-01.parquet', columns=['total_amount', 'trip_distance', 'tip_amount', 'tolls_amount'])\n",
    "yellow_avg = yellow_schema['total_amount'].mean()\n",
    "print(f\"Promedio de Taxis Yellow: ${yellow_avg:.2f}\")\n",
    "\n",
    "# fhvhv  scan_parquet no carga todo el archivo en memoria\n",
    "fhvhv_lazy = pl.scan_parquet('fhvhv_tripdata_2025-01.parquet')\n",
    "fhvhv_income = fhvhv_lazy.select(\n",
    "    (\n",
    "        pl.col('base_passenger_fare') +\n",
    "        pl.col('tolls') +\n",
    "        pl.col('bcf') +\n",
    "        pl.col('sales_tax') +\n",
    "        pl.col('congestion_surcharge') +\n",
    "        pl.col('airport_fee') +\n",
    "        pl.col('tips')\n",
    "    ).alias('total_income')\n",
    ")\n",
    "\n",
    "# Calcular el promedio (y ejecutar el plan)\n",
    "fhvhv_avg = fhvhv_income.select(pl.col('total_income').mean()).collect()[0, 0]\n",
    "print(f\"FHVHV avg income: ${fhvhv_avg:.2f}\")\n",
    "\n",
    "#Promedio de taxis\n",
    "promedio_taxis= sum([green_avg, yellow_avg, fhvhv_avg])/3\n",
    "print(f\"El promedio de los 3 tipos de Taxis es de ${promedio_taxis:.2f}\")\n"
   ]
  },
  {
   "cell_type": "markdown",
   "id": "9885a808",
   "metadata": {},
   "source": [
    "### Mayor cantidad de distancia"
   ]
  },
  {
   "cell_type": "code",
   "execution_count": 22,
   "id": "b22e73e8",
   "metadata": {},
   "outputs": [
    {
     "name": "stdout",
     "output_type": "stream",
     "text": [
      "Distancia total Green: 1040575.25 millas\n",
      "Distancia total Yellow: 20347886.73 millas\n",
      "Distancia total FHVHV: 98978656.51 millas\n",
      "\n",
      " El tipo de taxi que recorrió más distancia en enero fue: FHVHV con 98978656.51 millas.\n"
     ]
    }
   ],
   "source": [
    "green_distance = green_schema['trip_distance'].sum()\n",
    "yellow_distance = yellow_schema[\"trip_distance\"].sum()\n",
    "#fhvhv_distance = fhvhv_lazy.select(pl.col('trip_miles')).sum()\n",
    "\n",
    "# Mostrar resultados\n",
    "print(f\"Distancia total Green: {green_distance:.2f} millas\")\n",
    "print(f\"Distancia total Yellow: {yellow_distance:.2f} millas\")\n",
    "\n",
    "# Leer fhvhv en modo lazy \n",
    "fhvhv_lazy = pl.read_parquet(\"fhvhv_tripdata_2025-01.parquet\", columns=[\"trip_miles\"]).lazy()\n",
    "\n",
    "# Calcular distancia total\n",
    "fhvhv_total = (\n",
    "    fhvhv_lazy\n",
    "    .select(pl.col(\"trip_miles\").sum().alias(\"total_millas\"))\n",
    "    .collect()\n",
    "    .item(0, 0)\n",
    ")\n",
    "\n",
    "print(f\"Distancia total FHVHV: {fhvhv_total:.2f} millas\")\n",
    "\n",
    "# Determinar cuál fue mayor\n",
    "distancias = {\n",
    "    \"Green\": green_distance,\n",
    "    \"Yellow\": yellow_distance,\n",
    "    \"FHVHV\": fhvhv_total\n",
    "}\n",
    "\n",
    "tipo_mayor = max(distancias, key=distancias.get)\n",
    "print(f\"\\n El tipo de taxi que recorrió más distancia en enero fue: {tipo_mayor} con {distancias[tipo_mayor]:.2f} millas.\")"
   ]
  },
  {
   "cell_type": "markdown",
   "id": "6fc88bc7",
   "metadata": {},
   "source": [
    "### Tipo de Taxi con más propinas"
   ]
  },
  {
   "cell_type": "code",
   "execution_count": 25,
   "id": "517b52ad",
   "metadata": {},
   "outputs": [
    {
     "name": "stdout",
     "output_type": "stream",
     "text": [
      "Propinas de Taxis Verdes: 119938.32 USD\n",
      "Propinas de Taxis Yellow: 10286018.35 USD\n",
      "Propinas FHVHV: 21247787.65 USD\n",
      "\n",
      " El tipo de taxi que recibió más propinas en enero fue: FHVHV con 21247787.65 USD.\n"
     ]
    }
   ],
   "source": [
    "green_tips = green_schema['tip_amount'].sum()\n",
    "yellow_tips = yellow_schema['tip_amount'].sum()\n",
    "\n",
    "# Leer fhvhv en modo lazy \n",
    "fhvhv_lazy = pl.read_parquet(\"fhvhv_tripdata_2025-01.parquet\", columns=[\"tips\"]).lazy()\n",
    "\n",
    "# Calcular propinas totales\n",
    "fhvhv_total = (\n",
    "    fhvhv_lazy\n",
    "    .select(pl.col(\"tips\").sum().alias(\"total_tips\"))\n",
    "    .collect()\n",
    "    .item(0, 0)\n",
    ")\n",
    "\n",
    "print(f\"Propinas de Taxis Verdes: {green_tips:.2f} USD\")\n",
    "print(f\"Propinas de Taxis Yellow: {yellow_tips:.2f} USD\")\n",
    "print(f\"Propinas FHVHV: {fhvhv_total:.2f} USD\")\n",
    "\n",
    "propinas = {\n",
    "    \"Green\": green_tips,\n",
    "    \"Yellow\": yellow_tips,\n",
    "    \"FHVHV\": fhvhv_total\n",
    "}\n",
    "\n",
    "tipo_mayor = max(propinas, key=propinas.get)\n",
    "print(f\"\\n El tipo de taxi que recibió más propinas en enero fue: {tipo_mayor} con {propinas[tipo_mayor]:.2f} USD.\")"
   ]
  }
 ],
 "metadata": {
  "kernelspec": {
   "display_name": "venv",
   "language": "python",
   "name": "python3"
  },
  "language_info": {
   "codemirror_mode": {
    "name": "ipython",
    "version": 3
   },
   "file_extension": ".py",
   "mimetype": "text/x-python",
   "name": "python",
   "nbconvert_exporter": "python",
   "pygments_lexer": "ipython3",
   "version": "3.12.3"
  }
 },
 "nbformat": 4,
 "nbformat_minor": 5
}
