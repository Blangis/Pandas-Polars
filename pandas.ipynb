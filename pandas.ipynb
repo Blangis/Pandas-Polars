{
 "cells": [
  {
   "cell_type": "markdown",
   "id": "e073b874",
   "metadata": {},
   "source": [
    "## Pandas"
   ]
  },
  {
   "cell_type": "code",
   "execution_count": 22,
   "id": "22ef8c08",
   "metadata": {},
   "outputs": [],
   "source": [
    "import pandas as pd\n",
    "import pyarrow.parquet as pq\n",
    "import matplotlib.pyplot as plt"
   ]
  },
  {
   "cell_type": "code",
   "execution_count": 8,
   "id": "068666e9",
   "metadata": {},
   "outputs": [
    {
     "name": "stdout",
     "output_type": "stream",
     "text": [
      "VendorID: int32\n",
      "lpep_pickup_datetime: timestamp[us]\n",
      "lpep_dropoff_datetime: timestamp[us]\n",
      "store_and_fwd_flag: large_string\n",
      "RatecodeID: int64\n",
      "PULocationID: int32\n",
      "DOLocationID: int32\n",
      "passenger_count: int64\n",
      "trip_distance: double\n",
      "fare_amount: double\n",
      "extra: double\n",
      "mta_tax: double\n",
      "tip_amount: double\n",
      "tolls_amount: double\n",
      "ehail_fee: double\n",
      "improvement_surcharge: double\n",
      "total_amount: double\n",
      "payment_type: int64\n",
      "trip_type: int64\n",
      "congestion_surcharge: double\n",
      "cbd_congestion_fee: double\n"
     ]
    }
   ],
   "source": [
    "# PyArrow directamente para ver el esquema completo\n",
    "# green = pq.ParquetFile('green_tripdata_2025-01.parquet')\n",
    "# print(green.schema)\n",
    "\n",
    "green_schema = pq.read_schema('green_tripdata_2025-01.parquet')\n",
    "print(green_schema)"
   ]
  },
  {
   "cell_type": "code",
   "execution_count": 4,
   "id": "8f62708d",
   "metadata": {},
   "outputs": [
    {
     "name": "stdout",
     "output_type": "stream",
     "text": [
      "<pyarrow._parquet.ParquetSchema object at 0x7d93274fed40>\n",
      "required group field_id=-1 schema {\n",
      "  optional int32 field_id=-1 VendorID;\n",
      "  optional int64 field_id=-1 tpep_pickup_datetime (Timestamp(isAdjustedToUTC=false, timeUnit=microseconds, is_from_converted_type=false, force_set_converted_type=false));\n",
      "  optional int64 field_id=-1 tpep_dropoff_datetime (Timestamp(isAdjustedToUTC=false, timeUnit=microseconds, is_from_converted_type=false, force_set_converted_type=false));\n",
      "  optional int64 field_id=-1 passenger_count;\n",
      "  optional double field_id=-1 trip_distance;\n",
      "  optional int64 field_id=-1 RatecodeID;\n",
      "  optional binary field_id=-1 store_and_fwd_flag (String);\n",
      "  optional int32 field_id=-1 PULocationID;\n",
      "  optional int32 field_id=-1 DOLocationID;\n",
      "  optional int64 field_id=-1 payment_type;\n",
      "  optional double field_id=-1 fare_amount;\n",
      "  optional double field_id=-1 extra;\n",
      "  optional double field_id=-1 mta_tax;\n",
      "  optional double field_id=-1 tip_amount;\n",
      "  optional double field_id=-1 tolls_amount;\n",
      "  optional double field_id=-1 improvement_surcharge;\n",
      "  optional double field_id=-1 total_amount;\n",
      "  optional double field_id=-1 congestion_surcharge;\n",
      "  optional double field_id=-1 Airport_fee;\n",
      "  optional double field_id=-1 cbd_congestion_fee;\n",
      "}\n",
      "\n"
     ]
    }
   ],
   "source": [
    "yellow = pq.ParquetFile('yellow_tripdata_2025-01.parquet')\n",
    "print(yellow.schema)"
   ]
  },
  {
   "cell_type": "code",
   "execution_count": 5,
   "id": "428bb868",
   "metadata": {},
   "outputs": [
    {
     "name": "stdout",
     "output_type": "stream",
     "text": [
      "<pyarrow._parquet.ParquetSchema object at 0x7d93274f6dc0>\n",
      "required group field_id=-1 schema {\n",
      "  optional binary field_id=-1 dispatching_base_num (String);\n",
      "  optional int64 field_id=-1 pickup_datetime (Timestamp(isAdjustedToUTC=false, timeUnit=microseconds, is_from_converted_type=false, force_set_converted_type=false));\n",
      "  optional int64 field_id=-1 dropOff_datetime (Timestamp(isAdjustedToUTC=false, timeUnit=microseconds, is_from_converted_type=false, force_set_converted_type=false));\n",
      "  optional int64 field_id=-1 PUlocationID;\n",
      "  optional int64 field_id=-1 DOlocationID;\n",
      "  optional int64 field_id=-1 SR_Flag;\n",
      "  optional binary field_id=-1 Affiliated_base_number (String);\n",
      "}\n",
      "\n"
     ]
    }
   ],
   "source": [
    "fhv = pq.ParquetFile('fhv_tripdata_2025-01.parquet')\n",
    "print(fhv.schema)\n"
   ]
  },
  {
   "cell_type": "code",
   "execution_count": 6,
   "id": "4625668c",
   "metadata": {},
   "outputs": [
    {
     "name": "stdout",
     "output_type": "stream",
     "text": [
      "<pyarrow._parquet.ParquetSchema object at 0x7d93274fe9c0>\n",
      "required group field_id=-1 schema {\n",
      "  optional binary field_id=-1 hvfhs_license_num (String);\n",
      "  optional binary field_id=-1 dispatching_base_num (String);\n",
      "  optional binary field_id=-1 originating_base_num (String);\n",
      "  optional int64 field_id=-1 request_datetime (Timestamp(isAdjustedToUTC=false, timeUnit=microseconds, is_from_converted_type=false, force_set_converted_type=false));\n",
      "  optional int64 field_id=-1 on_scene_datetime (Timestamp(isAdjustedToUTC=false, timeUnit=microseconds, is_from_converted_type=false, force_set_converted_type=false));\n",
      "  optional int64 field_id=-1 pickup_datetime (Timestamp(isAdjustedToUTC=false, timeUnit=microseconds, is_from_converted_type=false, force_set_converted_type=false));\n",
      "  optional int64 field_id=-1 dropoff_datetime (Timestamp(isAdjustedToUTC=false, timeUnit=microseconds, is_from_converted_type=false, force_set_converted_type=false));\n",
      "  optional int32 field_id=-1 PULocationID;\n",
      "  optional int32 field_id=-1 DOLocationID;\n",
      "  optional double field_id=-1 trip_miles;\n",
      "  optional int64 field_id=-1 trip_time;\n",
      "  optional double field_id=-1 base_passenger_fare;\n",
      "  optional double field_id=-1 tolls;\n",
      "  optional double field_id=-1 bcf;\n",
      "  optional double field_id=-1 sales_tax;\n",
      "  optional double field_id=-1 congestion_surcharge;\n",
      "  optional double field_id=-1 airport_fee;\n",
      "  optional double field_id=-1 tips;\n",
      "  optional double field_id=-1 driver_pay;\n",
      "  optional binary field_id=-1 shared_request_flag (String);\n",
      "  optional binary field_id=-1 shared_match_flag (String);\n",
      "  optional binary field_id=-1 access_a_ride_flag (String);\n",
      "  optional binary field_id=-1 wav_request_flag (String);\n",
      "  optional binary field_id=-1 wav_match_flag (String);\n",
      "  optional double field_id=-1 cbd_congestion_fee;\n",
      "}\n",
      "\n"
     ]
    }
   ],
   "source": [
    "fhvhv = pq.ParquetFile('fhvhv_tripdata_2025-01.parquet')\n",
    "print(fhvhv.schema)"
   ]
  },
  {
   "cell_type": "markdown",
   "id": "042c1509",
   "metadata": {},
   "source": [
    "## Promedio de ingresos brutos "
   ]
  },
  {
   "cell_type": "markdown",
   "id": "af05824f",
   "metadata": {},
   "source": [
    "### Taxis Green, Yellow, Fhv, Fhvhv"
   ]
  },
  {
   "cell_type": "code",
   "execution_count": 5,
   "id": "f956f47b",
   "metadata": {},
   "outputs": [
    {
     "name": "stdout",
     "output_type": "stream",
     "text": [
      "Ingresos brutos de Green: 22.63424160907172\n",
      "Ingresos brutos de Yellow: 25.61129169728817\n",
      "Fhv no muestra datos para calcular Ingresos brutos y de fhvhv no cargaron.\n",
      "Promedio de ingresos de green y yellow: 24.122766653179944\n"
     ]
    }
   ],
   "source": [
    "# Selecciono la col de interés de green:\n",
    "cols_green = ['total_amount']\n",
    "# Accedo a los valores de esa columna y lo convierte a DataFrame\n",
    "green = pq.read_table('green_tripdata_2025-01.parquet', columns=cols_green).to_pandas()\n",
    "# Se hace la suma en una nueva columna llamada total_income\n",
    "green_income_avg = green['total_amount'].mean()\n",
    "print(\"Ingresos brutos de Green:\", green_income_avg)\n",
    "\n",
    "# Selecciono la col de yellow\n",
    "cols_yellow = ['total_amount']\n",
    "yellow = pq.read_table('yellow_tripdata_2025-01.parquet', columns=cols_yellow).to_pandas()\n",
    "yellow_income_avg = yellow['total_amount'].mean()\n",
    "print(\"Ingresos brutos de Yellow:\", yellow_income_avg)\n",
    "\n",
    "# Selecciono la col de fhv\n",
    "print(\"Fhv no muestra datos para calcular Ingresos brutos y de fhvhv no cargaron.\")\n",
    "\n",
    "promedio_taxis= (green_income_avg+yellow_income_avg)/2\n",
    "print(\"Promedio de ingresos de green y yellow:\", promedio_taxis)\n",
    "\n"
   ]
  },
  {
   "cell_type": "markdown",
   "id": "0fa2cb20",
   "metadata": {},
   "source": [
    "## Tipo de Taxis que recorrieron la mayor cantidad de distancia en Enero"
   ]
  },
  {
   "cell_type": "code",
   "execution_count": 19,
   "id": "41e8bba2",
   "metadata": {},
   "outputs": [
    {
     "name": "stdout",
     "output_type": "stream",
     "text": [
      "Yellow taxis recorrieron más distancia: 20347886.73 millas\n"
     ]
    }
   ],
   "source": [
    "# Datos green\n",
    "green = pq.read_table('green_tripdata_2025-01.parquet', columns=['trip_distance', 'tip_amount', 'tolls_amount']).to_pandas()\n",
    "green_total_distance = green['trip_distance'].sum()\n",
    "\n",
    "# Leer datos yellow\n",
    "yellow = pq.read_table('yellow_tripdata_2025-01.parquet', columns=['trip_distance', 'tip_amount', 'tolls_amount']).to_pandas()\n",
    "yellow_total_distance = yellow['trip_distance'].sum()\n",
    "\n",
    "# Comparar\n",
    "if green_total_distance > yellow_total_distance:\n",
    "    print(f\"Green taxis recorrieron más distancia: {green_total_distance:.2f} millas\")\n",
    "else:\n",
    "    print(f\"Yellow taxis recorrieron más distancia: {yellow_total_distance:.2f} millas\")"
   ]
  },
  {
   "cell_type": "markdown",
   "id": "21c3d141",
   "metadata": {},
   "source": [
    "### Tipo de taxi que recibe más propinas en promedio"
   ]
  },
  {
   "cell_type": "code",
   "execution_count": 20,
   "id": "5bd09055",
   "metadata": {},
   "outputs": [
    {
     "name": "stdout",
     "output_type": "stream",
     "text": [
      "Yellow taxis reciben más propinas en promedio. Recibieron: 2.96 dólares en promedio.\n"
     ]
    }
   ],
   "source": [
    "# Green\n",
    "green_tips= green['tip_amount'].mean()\n",
    "\n",
    "# Yellow\n",
    "yellow_tips = yellow['tip_amount'].mean()\n",
    "\n",
    "#fhv\n",
    "fhvhv = pq.read_table('fhvhv_tripdata_2025-01.parquet', columns=['tips', 'tolls']).to_pandas()\n",
    "fhvhv_tips = fhvhv['tips'].mean()\n",
    "\n",
    "#Comparaciones\n",
    "if green_tips>yellow_tips and green_tips>fhvhv_tips:\n",
    "    print(f\"Green taxis reciben más propinas en promedio. Recibieron: {green_tips:.2f} dólares en promedio.\")\n",
    "elif yellow_tips>green_tips and yellow_tips>fhvhv_tips:\n",
    "    print(f\"Yellow taxis reciben más propinas en promedio. Recibieron: {yellow_tips:.2f} dólares en promedio.\")\n",
    "else:\n",
    "    print(f\"Fhvhv taxis reciben más propinas en promedio. Recibieron: {fhvhv_tips:.2f} dólares en promedio.\")\n",
    "\n",
    "\n"
   ]
  },
  {
   "cell_type": "markdown",
   "id": "c1a684a8",
   "metadata": {},
   "source": [
    "### Importe del peaje total de cada tipo de Taxi"
   ]
  },
  {
   "cell_type": "code",
   "execution_count": 27,
   "id": "22b62efb",
   "metadata": {},
   "outputs": [
    {
     "data": {
      "image/png": "[encoded data removed]",
      "text/plain": [
       "<Figure size 800x500 with 1 Axes>"
      ]
     },
     "metadata": {},
     "output_type": "display_data"
    }
   ],
   "source": [
    "# Green\n",
    "green_tolls = green['tolls_amount'].sum()\n",
    "\n",
    "# Yellow\n",
    "yellow_tolls = yellow['tolls_amount'].sum()\n",
    "\n",
    "# fhvhv\n",
    "fhvhv_tolls = fhvhv['tolls'].sum()\n",
    "\n",
    "# Datos para gráfica\n",
    "taxi_types = ['Green', 'Yellow', 'FHVHV']\n",
    "total_tolls = [green_tolls, yellow_tolls, fhvhv_tolls]\n",
    "\n",
    "# Gráfico\n",
    "plt.figure(figsize=(8,5))\n",
    "bars = plt.bar(taxi_types, total_tolls, color=['green', 'gold', 'purple'])\n",
    "\n",
    "# Agregar valores arriba de las barras\n",
    "for bar in bars:\n",
    "    height = bar.get_height()\n",
    "    plt.text(bar.get_x() + bar.get_width()/2, height + 2, f'{height:.2f}', \n",
    "             ha='center', va='bottom', fontsize=10)\n",
    "\n",
    "plt.title('Importe total de peajes por tipo de taxi (Enero 2025)')\n",
    "plt.ylabel('Importe en USD')\n",
    "plt.xlabel('Tipo de Taxi')\n",
    "plt.grid(axis='y', linestyle='--', alpha=0.4)\n",
    "plt.tight_layout()\n",
    "plt.show()\n"
   ]
  }
 ],
 "metadata": {
  "kernelspec": {
   "display_name": "venv",
   "language": "python",
   "name": "python3"
  },
  "language_info": {
   "codemirror_mode": {
    "name": "ipython",
    "version": 3
   },
   "file_extension": ".py",
   "mimetype": "text/x-python",
   "name": "python",
   "nbconvert_exporter": "python",
   "pygments_lexer": "ipython3",
   "version": "3.12.3"
  }
 },
 "nbformat": 4,
 "nbformat_minor": 5
}
